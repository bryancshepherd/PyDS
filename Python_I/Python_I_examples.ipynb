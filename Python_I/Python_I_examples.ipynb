{
 "cells": [
  {
   "cell_type": "code",
   "execution_count": 2,
   "metadata": {
    "collapsed": true
   },
   "outputs": [],
   "source": [
    "from __future__ import division"
   ]
  },
  {
   "cell_type": "markdown",
   "metadata": {},
   "source": [
    "## Importing modules/packages:"
   ]
  },
  {
   "cell_type": "code",
   "execution_count": 3,
   "metadata": {
    "collapsed": true
   },
   "outputs": [],
   "source": [
    "import pandas\n",
    "import pandas as pd\n",
    "from pandas import DataFrame"
   ]
  },
  {
   "cell_type": "markdown",
   "metadata": {},
   "source": [
    "## Data types:"
   ]
  },
  {
   "cell_type": "markdown",
   "metadata": {},
   "source": [
    "### Values:"
   ]
  },
  {
   "cell_type": "code",
   "execution_count": 4,
   "metadata": {
    "ExecuteTime": {
     "end_time": "2017-04-18T11:51:17.903423",
     "start_time": "2017-04-18T11:51:17.900632"
    },
    "collapsed": true
   },
   "outputs": [],
   "source": [
    "boolean_thing = True\n",
    "numeric_thing = 25\n",
    "string_thing = 'Call me Ishmael'"
   ]
  },
  {
   "cell_type": "code",
   "execution_count": null,
   "metadata": {
    "ExecuteTime": {
     "end_time": "2017-04-18T11:51:18.974159",
     "start_time": "2017-04-18T11:51:18.971118"
    },
    "collapsed": false
   },
   "outputs": [],
   "source": [
    "type(boolean_thing)"
   ]
  },
  {
   "cell_type": "code",
   "execution_count": null,
   "metadata": {
    "ExecuteTime": {
     "end_time": "2017-04-18T11:51:19.381576",
     "start_time": "2017-04-18T11:51:19.378300"
    },
    "collapsed": false
   },
   "outputs": [],
   "source": [
    "[type(x) for x in [boolean_thing, numeric_thing, string_thing]]"
   ]
  },
  {
   "cell_type": "markdown",
   "metadata": {},
   "source": [
    "### Containers:"
   ]
  },
  {
   "cell_type": "code",
   "execution_count": null,
   "metadata": {
    "ExecuteTime": {
     "end_time": "2017-04-18T12:00:06.121509",
     "start_time": "2017-04-18T12:00:06.118676"
    },
    "collapsed": true
   },
   "outputs": [],
   "source": [
    "# Unordered, WYSIWYG\n",
    "list_thing = ['thing_1', 2, 'thing 3']\n",
    "\n",
    "# Ordered, unique values. Not indexable\n",
    "set_thing = {'thing_A', 'thing_B', 'thing_C', 'thing_C', 'zee other thing'}\n",
    "\n",
    "# Key/value pairs, indexable by key\n",
    "dict_thing = {'favorite color':'blue', \n",
    "              'favorite number':17,\n",
    "              'favorite orange': 'Valencia'}"
   ]
  },
  {
   "cell_type": "code",
   "execution_count": null,
   "metadata": {
    "ExecuteTime": {
     "end_time": "2017-04-18T12:00:06.702968",
     "start_time": "2017-04-18T12:00:06.700016"
    },
    "collapsed": false
   },
   "outputs": [],
   "source": [
    "set_thing"
   ]
  },
  {
   "cell_type": "code",
   "execution_count": null,
   "metadata": {
    "ExecuteTime": {
     "end_time": "2017-04-18T12:00:13.591877",
     "start_time": "2017-04-18T12:00:13.588519"
    },
    "collapsed": false
   },
   "outputs": [],
   "source": [
    "dict_thing"
   ]
  },
  {
   "cell_type": "markdown",
   "metadata": {},
   "source": [
    "### Control flow:"
   ]
  },
  {
   "cell_type": "code",
   "execution_count": null,
   "metadata": {
    "ExecuteTime": {
     "end_time": "2017-04-18T15:49:27.534134",
     "start_time": "2017-04-18T15:49:27.531197"
    },
    "collapsed": false
   },
   "outputs": [],
   "source": [
    "for i in range(5):\n",
    "    print('i is {}'.format(i))"
   ]
  },
  {
   "cell_type": "code",
   "execution_count": null,
   "metadata": {
    "ExecuteTime": {
     "end_time": "2017-04-18T14:51:54.321085",
     "start_time": "2017-04-18T14:51:54.317992"
    },
    "collapsed": false
   },
   "outputs": [],
   "source": [
    "# If/elif/else\n",
    "x = 1\n",
    "\n",
    "if (x == 1):\n",
    "    print ('x is 1')\n",
    "elif (x == 2):\n",
    "    print ('x is 2')\n",
    "else:\n",
    "    print ('These are not the droids you\\'re looking for.')"
   ]
  },
  {
   "cell_type": "markdown",
   "metadata": {},
   "source": [
    "### Defining functions:"
   ]
  },
  {
   "cell_type": "code",
   "execution_count": null,
   "metadata": {
    "ExecuteTime": {
     "end_time": "2017-04-19T14:45:34.013922",
     "start_time": "2017-04-19T14:45:34.006781"
    },
    "collapsed": false
   },
   "outputs": [],
   "source": [
    "def fizz_buzz(fizz=2, buzz=5, range_min=5, range_max=25):\n",
    "    for x in range(range_min, range_max+1):\n",
    "        text = ''\n",
    "        if x % fizz == 0:\n",
    "            text = text + 'Fizz' # Or text += 'Fizz'\n",
    "        \n",
    "        if x % buzz == 0:\n",
    "            text = text + 'Buzz' # Or text += 'Buzz'\n",
    "        \n",
    "        if text == '':\n",
    "            text = x\n",
    "        \n",
    "        print(text)"
   ]
  },
  {
   "cell_type": "code",
   "execution_count": null,
   "metadata": {
    "ExecuteTime": {
     "end_time": "2017-04-19T14:45:34.584619",
     "start_time": "2017-04-19T14:45:34.582305"
    },
    "collapsed": false
   },
   "outputs": [],
   "source": [
    "fizz_buzz()"
   ]
  }
 ],
 "metadata": {
  "anaconda-cloud": {},
  "hide_input": false,
  "kernelspec": {
   "display_name": "Python [python3]",
   "language": "python",
   "name": "Python [python3]"
  },
  "language_info": {
   "codemirror_mode": {
    "name": "ipython",
    "version": 3.0
   },
   "file_extension": ".py",
   "mimetype": "text/x-python",
   "name": "python",
   "nbconvert_exporter": "python",
   "pygments_lexer": "ipython3",
   "version": "3.5.2"
  },
  "toc": {
   "colors": {
    "hover_highlight": "#DAA520",
    "running_highlight": "#FF0000",
    "selected_highlight": "#FFD700"
   },
   "moveMenuLeft": true,
   "nav_menu": {
    "height": "127px",
    "width": "251px"
   },
   "navigate_menu": true,
   "number_sections": false,
   "sideBar": true,
   "threshold": 4.0,
   "toc_cell": false,
   "toc_section_display": "block",
   "toc_window_display": false
  }
 },
 "nbformat": 4,
 "nbformat_minor": 0
}